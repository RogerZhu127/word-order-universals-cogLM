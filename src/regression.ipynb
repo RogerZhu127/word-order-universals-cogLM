{
 "cells": [
  {
   "cell_type": "code",
   "execution_count": 13,
   "metadata": {},
   "outputs": [],
   "source": [
    "import os\n",
    "import json\n",
    "import numpy as np\n",
    "import pandas as pd\n",
    "import statsmodels.api as sm\n",
    "\n",
    "from statistics import mean\n",
    "from scipy.stats import pearsonr\n",
    "\n",
    "np.random.seed(9876789)\n",
    "pd.set_option('display.max_rows', 500)\n",
    "%matplotlib inline"
   ]
  },
  {
   "cell_type": "code",
   "execution_count": 14,
   "metadata": {},
   "outputs": [
    {
     "data": {
      "text/plain": [
       "0.5693262685643564"
      ]
     },
     "execution_count": 14,
     "metadata": {},
     "output_type": "execute_result"
    }
   ],
   "source": [
    "lang2gold = json.load(open(\"../work/lang2count.json\"))\n",
    "lang2gold = {lang.replace(\"2\", \"X\"): score for lang, score in lang2gold.items()}\n",
    "lang2gold = {k: v for k, v in sorted(lang2gold.items(), key=lambda x: x[0])}\n",
    "sum(sorted(lang2gold.values(), reverse=True)[:10])"
   ]
  },
  {
   "cell_type": "code",
   "execution_count": 15,
   "metadata": {},
   "outputs": [],
   "source": [
    "models = [\n",
    "        \"Transformer\", \n",
    "        \"LSTM\",\n",
    "        \"RNN\",\n",
    "        \"Transformer-action_td\",\n",
    "        \"Transformer-action_lc-as\",\n",
    "        \"LSTM-action_td\",\n",
    "        \"LSTM-action_lc-as\",\n",
    "        \"RNN-action_td\",\n",
    "        \"RNN-action_lc-as\",\n",
    "        \"3gram\", \n",
    "        \"4gram\",\n",
    "        \"5gram\", \n",
    "        \"3gram_actions_td\",\n",
    "        \"4gram_actions_td\",\n",
    "        \"5gram_actions_td\",\n",
    "        \"3gram_actions_lc-as\",\n",
    "        \"4gram_actions_lc-as\",\n",
    "        \"5gram_actions_lc-as\",\n",
    "        \"RNNG_top_down\",\n",
    "        \"RNNG_top_down_beam\",\n",
    "        \"RNNG_in_order\",\n",
    "        \"RNNG_in_order_beam\",\n",
    "        \"SRNNG_top_down\",\n",
    "        \"SRNNG_top_down_beam\",\n",
    "        \"SRNNG_in_order\",\n",
    "        \"SRNNG_in_order_beam\",\n",
    "        \"llama2-7b\"\n",
    "        ]"
   ]
  },
  {
   "cell_type": "code",
   "execution_count": 16,
   "metadata": {},
   "outputs": [],
   "source": [
    "def switch_consistency(preds, langs):\n",
    "    consistency = [max(lang.count(\"0\"), lang.count(\"1\")) for lang in langs]\n",
    "    return pearsonr(preds, consistency)[0]\n",
    "\n",
    "def left_preference(preds, langs):\n",
    "    consistency = [lang.count(\"0\") for lang in langs]\n",
    "    return pearsonr(preds, consistency)[0]\n",
    "\n",
    "def micro_correl(preds, lang2gold):\n",
    "    correls = []\n",
    "    for key in [\"00\", \"01\", \"10\", \"11\"]:\n",
    "        target_golds = [gold for l, gold in lang2gold.items() if l[:2] == key]\n",
    "        target_preds = [pred for l, pred in zip(lang2gold.keys(), preds) if l[:2] == key]\n",
    "        correls.append(pearsonr(target_golds, target_preds)[0])\n",
    "    return mean(correls)\n",
    "\n",
    "def top3_langs(preds):\n",
    "    top3 = [l.replace(\"1\", \"R\").replace(\"0\", \"L\").replace(\"X\", \"\") for l, _ in sorted(zip(lang2gold.keys(), preds), key=lambda x: x[1], reverse=True)[:3]]\n",
    "    return \", \".join(top3)\n",
    "\n",
    "def calc_stats(preds: list, lang2gold: dict):\n",
    "    correl = pearsonr(preds, list(lang2gold.values()))[0]\n",
    "    m_correl = micro_correl(preds, lang2gold)\n",
    "    consistency = switch_consistency(preds, lang2gold.keys())\n",
    "    left_pref = left_preference(preds, list(lang2gold.keys()))\n",
    "    top3 = top3_langs(preds)\n",
    "    return correl, m_correl, consistency, left_pref, top3\n"
   ]
  },
  {
   "cell_type": "code",
   "execution_count": 17,
   "metadata": {},
   "outputs": [
    {
     "name": "stdout",
     "output_type": "stream",
     "text": [
      "0.3683459382690032\n",
      "0.10540786110684897\n",
      "LRRRRL, LRRRRR, LLLRRL\n"
     ]
    }
   ],
   "source": [
    "print(switch_consistency(list(lang2gold.values()), list(lang2gold.keys())))\n",
    "print(left_preference(list(lang2gold.values()), list(lang2gold.keys())))\n",
    "print(top3_langs(list(lang2gold.values())))"
   ]
  },
  {
   "cell_type": "code",
   "execution_count": 18,
   "metadata": {},
   "outputs": [],
   "source": [
    "y = list(lang2gold.values())\n",
    "results_summary = pd.DataFrame(columns=[\"model\", \"fold\", \"k\", \"slope\", \"delta loglik\", \"AIC\", \"correl\", \"micro_correl\", \"consistency\", \"left_pref\", \"top3_langs\"])\n",
    "\n",
    "for k in [0.5, 1, 2, 3, \"log\"]:\n",
    "    for model in models:\n",
    "        for fold in [\"0\", \"20000\", \"40000\", \"60000\", \"80000\"]:\n",
    "            path = f\"../work/results/lang_ppl_distributions/{model}_fold{fold}.json\"\n",
    "            if os.path.exists(path):\n",
    "                lang2ppl = json.load(open(path))\n",
    "                lang2ppl = {k: v for k, v in sorted(lang2ppl.items(), key=lambda x: x[0])} \n",
    "                if k == \"log\":\n",
    "                    ppls = [np.log(ppl) for lang, ppl in lang2ppl.items()]\n",
    "                elif k == \"exp\":\n",
    "                    ppls = [np.exp(ppl) for lang, ppl in lang2ppl.items()]\n",
    "                else:\n",
    "                    ppls = [ppl**k for lang, ppl in lang2ppl.items()]\n",
    "                X = sm.add_constant(ppls)\n",
    "                linear_model = sm.OLS(y, X)\n",
    "                results = linear_model.fit()\n",
    "                slope = results.params[1]\n",
    "                negative_ppls = [-ppl for ppl in ppls]\n",
    "                correl, m_correl, consistency, left_pref, top3 = calc_stats(negative_ppls, lang2gold)\n",
    "                results_summary.loc[len(results_summary)] = [model, fold, k, slope, 0, results.aic, correl, m_correl, consistency, left_pref, top3]\n",
    "            else:\n",
    "                print(path)\n",
    "results_summary.to_csv(\"../work/results/regression/results_20230908.csv\")"
   ]
  },
  {
   "cell_type": "markdown",
   "metadata": {},
   "source": [
    "## Stack depth"
   ]
  },
  {
   "cell_type": "code",
   "execution_count": 19,
   "metadata": {},
   "outputs": [],
   "source": [
    "y = list(lang2gold.values())\n",
    "results_summary = pd.DataFrame(columns=[\"model\", \"fold\", \"k\", \"slope\", \"delta loglik\", \"AIC\", \"correl\", \"micro_correl\", \"consistency\", \"left_pref\", \"top3_langs\"])\n",
    "\n",
    "for k in [0.5, 1, 2, 3, \"log\"]:\n",
    "    for traversal in [\"td\", \"lc-as\"]:\n",
    "        for fold in [\"0\", \"20000\", \"40000\", \"60000\", \"80000\"]:\n",
    "            lang2ppl = json.load(open(f\"../work/results/lang_stack_depth/{traversal}_fold{fold}.json\"))\n",
    "            lang2ppl = {k: v for k, v in sorted(lang2ppl.items(), key=lambda x: x[0])} \n",
    "            if k == \"log\":\n",
    "                ppls = [np.log(ppl) for lang, ppl in lang2ppl.items()]\n",
    "            elif k == \"exp\":\n",
    "                ppls = [np.exp(ppl) for lang, ppl in lang2ppl.items()]\n",
    "            else:\n",
    "                ppls = [ppl**k for lang, ppl in lang2ppl.items()]\n",
    "            X = sm.add_constant(ppls)\n",
    "            linear_model = sm.OLS(y, X)\n",
    "            results = linear_model.fit()\n",
    "            slope = results.params[1]\n",
    "            negative_ppls = [-ppl for ppl in ppls]\n",
    "            correl, m_correl, consistency, left_pref, top3 = calc_stats(negative_ppls, lang2gold)\n",
    "            results_summary.loc[len(results_summary)] = [traversal, fold, k, slope, 0, results.aic, correl, m_correl, consistency, left_pref, top3]\n",
    "                  \n",
    "results_summary.to_csv(\"../work/results/regression/results_20231217_stack_depth.csv\")"
   ]
  },
  {
   "cell_type": "markdown",
   "metadata": {},
   "source": [
    "## Parseability"
   ]
  },
  {
   "cell_type": "code",
   "execution_count": 20,
   "metadata": {},
   "outputs": [],
   "source": [
    "rnngs = [\n",
    "          \"RNNG_top_down_beam\",\n",
    "          \"RNNG_in_order_beam\",\n",
    "          \"SRNNG_top_down_beam\",\n",
    "          \"SRNNG_in_order_beam\",\n",
    "          ]\n",
    "\n",
    "y = list(lang2gold.values())\n",
    "results_summary = pd.DataFrame(columns=[\"model\", \"fold\", \"k\", \"slope\", \"delta loglik\", \"AIC\", \"correl\", \"micro_correl\", \"consistency\", \"left_pref\", \"top3_langs\"])\n",
    "\n",
    "for k in [0.5, 1, 2, 3, \"log\"]:\n",
    "    for model in rnngs:\n",
    "        for fold in [\"0\", \"20000\", \"40000\", \"60000\", \"80000\"]:\n",
    "            lang2ppl = json.load(open(f\"../work/results/lang_parseability_distributions/{model}_fold{fold}.json\"))\n",
    "            lang2ppl = {k: v[\"fscore\"] for k, v in sorted(lang2ppl.items(), key=lambda x: x[0])} \n",
    "            if k == \"log\":\n",
    "                ppls = [np.log(ppl) for lang, ppl in lang2ppl.items()]\n",
    "            elif k == \"exp\":\n",
    "                ppls = [np.exp(ppl) for lang, ppl in lang2ppl.items()]\n",
    "            else:\n",
    "                ppls = [ppl**k for lang, ppl in lang2ppl.items()]\n",
    "            X = sm.add_constant(ppls)\n",
    "            linear_model = sm.OLS(y, X)\n",
    "            results = linear_model.fit()\n",
    "            slope = results.params[1]\n",
    "            negative_ppls = [-ppl for ppl in ppls]\n",
    "            correl, m_correl, consistency, left_pref, top3 = calc_stats(negative_ppls, lang2gold)\n",
    "            results_summary.loc[len(results_summary)] = [model, fold, k, slope, 0, results.aic, correl, m_correl, consistency, left_pref, top3]\n",
    "                 \n",
    "results_summary.to_csv(\"../work/results/regression/results_20230927_parseability.csv\")"
   ]
  },
  {
   "cell_type": "markdown",
   "metadata": {},
   "source": [
    "## Parseability and predictability"
   ]
  },
  {
   "cell_type": "code",
   "execution_count": 21,
   "metadata": {},
   "outputs": [],
   "source": [
    "rnngs = [\n",
    "          \"RNNG_top_down_beam\",\n",
    "          \"RNNG_in_order_beam\",\n",
    "          \"SRNNG_top_down_beam\",\n",
    "          \"SRNNG_in_order_beam\",\n",
    "          ]\n",
    "\n",
    "y = list(lang2gold.values())\n",
    "results_summary = pd.DataFrame(columns=[\"model\", \"fold\", \"slope\", \"pvalue\", \"delta loglik\", \"AIC_baseline\", \"AIC\",])\n",
    "for model in rnngs:\n",
    "    for fold in [\"0\", \"20000\", \"40000\", \"60000\", \"80000\"]:\n",
    "\n",
    "        lang2ppl = json.load(open(f\"../work/results/lang_ppl_distributions/{model}_fold{fold}.json\"))\n",
    "        lang2ppl = {k: v for k, v in sorted(lang2ppl.items(), key=lambda x: x[0])} \n",
    "        ppls = [-ppl for lang, ppl in lang2ppl.items()]\n",
    "        X = sm.add_constant(ppls)\n",
    "        baseline_model = sm.OLS(y, X)\n",
    "        baseline_model = baseline_model.fit()\n",
    "\n",
    "        lang2parse = json.load(open(f\"../work/results/lang_parseability_distributions/{model}_fold{fold}.json\"))\n",
    "        lang2parse = {k: v[\"fscore\"] for k, v in sorted(lang2parse.items(), key=lambda x: x[0])} \n",
    "        parses = [parse for lang, parse in lang2parse.items()]\n",
    "        X = np.column_stack((ppls, parses))\n",
    "        X = sm.add_constant(X)\n",
    "        linear_model = sm.OLS(y, X)\n",
    "        results = linear_model.fit()\n",
    "\n",
    "        slope = results.params[2]\n",
    "        pvalue = results.pvalues[2]\n",
    "\n",
    "        delta_loglik = results.llf - baseline_model.llf\n",
    "        results_summary.loc[len(results_summary)] = [model, fold, slope, pvalue, delta_loglik, baseline_model.aic, results.aic]\n",
    "\n",
    "results_summary.to_csv(\"../work/results/regression/results_20230927_parseability_predictability.csv\")"
   ]
  }
 ],
 "metadata": {
  "kernelspec": {
   "display_name": ".venv",
   "language": "python",
   "name": "python3"
  },
  "language_info": {
   "codemirror_mode": {
    "name": "ipython",
    "version": 3
   },
   "file_extension": ".py",
   "mimetype": "text/x-python",
   "name": "python",
   "nbconvert_exporter": "python",
   "pygments_lexer": "ipython3",
   "version": "3.9.18"
  },
  "orig_nbformat": 4
 },
 "nbformat": 4,
 "nbformat_minor": 2
}
