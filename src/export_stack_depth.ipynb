{
 "cells": [
  {
   "cell_type": "code",
   "execution_count": 2,
   "metadata": {},
   "outputs": [],
   "source": [
    "from collections import defaultdict\n",
    "from statistics import mean\n",
    "import glob\n",
    "import json\n",
    "\n",
    "def marginalize_complementizer(lang2score):\n",
    "    lang2marginalized_score = defaultdict(list)\n",
    "    for lang, score in lang2score.items():\n",
    "        lang2marginalized_score[lang[:2] + \"X\" + lang[3:]].append(float(score))\n",
    "    lang2score = {}\n",
    "    for lang, scores in lang2marginalized_score.items():\n",
    "        lang2score[lang] = mean(scores)\n",
    "    return lang2score"
   ]
  },
  {
   "cell_type": "code",
   "execution_count": 3,
   "metadata": {},
   "outputs": [],
   "source": [
    "from statistics import mean\n",
    "\n",
    "def reduce(stack, action):\n",
    "    for i, a  in enumerate(stack[::-1], start=1):\n",
    "        if a.startswith(\"NT\"):\n",
    "            assert a[3:4] == action[7:8]\n",
    "            break\n",
    "    stack = stack[:-i] + [\"(\" + \"_\".join(stack[-i:]) + \")\"]\n",
    "    return stack\n",
    "\n",
    "def lc_as(line):\n",
    "    stack = []\n",
    "    stack_ls = []\n",
    "    for action in line.split():\n",
    "        if action.startswith(\"NT\"):\n",
    "            stack = stack[:-1] + [action + \"_\" + stack[-1]]\n",
    "        elif action.startswith(\"REDUCE\"):\n",
    "            stack = reduce(stack, action)\n",
    "        else:\n",
    "            stack.append(action)\n",
    "        stack_ls.append(len(stack))\n",
    "    return stack_ls\n",
    "\n",
    "def top_down(line):\n",
    "    stack = []\n",
    "    stack_ls = []\n",
    "    for action in line.split():\n",
    "        if action.startswith(\"NT\"):\n",
    "            stack.append(action)\n",
    "        elif action.startswith(\"REDUCE\"):\n",
    "            stack = reduce(stack, action)\n",
    "        else:\n",
    "            stack[-1] = stack[-1] + \"_\" + action\n",
    "        stack_ls.append(len(stack))\n",
    "    return stack_ls\n"
   ]
  },
  {
   "cell_type": "code",
   "execution_count": 8,
   "metadata": {},
   "outputs": [],
   "source": [
    "folds = [\"0\", \"20000\", \"40000\", \"60000\", \"80000\"]\n",
    "for fold in folds:\n",
    "    lang2stack_d = {}\n",
    "    files = glob.glob(f\"../work/tree_per_line/**/{fold}/lc-as/tst.actions.txt\")\n",
    "    for file in files:\n",
    "        lang = file.split(\"/\")[-4]\n",
    "        stack_ds = []\n",
    "        with open(file) as f:\n",
    "            for line in f:\n",
    "                stack_ds.extend(lc_as(line))\n",
    "        lang2stack_d[lang] = mean(stack_ds)\n",
    "    lang2stack_d = marginalize_complementizer(lang2stack_d)\n",
    "    json.dump(lang2stack_d, open(f\"../work/results/lang_stack_depth/lc-as_fold{fold}.json\", \"w\"))"
   ]
  },
  {
   "cell_type": "code",
   "execution_count": 9,
   "metadata": {},
   "outputs": [],
   "source": [
    "folds = [\"0\", \"20000\", \"40000\", \"60000\", \"80000\"]\n",
    "for fold in folds:\n",
    "    lang2stack_d = {}\n",
    "    files = glob.glob(f\"../work/tree_per_line/**/{fold}/td/tst.actions.txt\")\n",
    "    for file in files:\n",
    "        with open(file) as f:\n",
    "            lang = file.split(\"/\")[-4]\n",
    "            stack_ds = []\n",
    "            for line in f:\n",
    "                stack_ds.extend(top_down(line))\n",
    "            lang2stack_d[lang] = mean(stack_ds)\n",
    "    lang2stack_d = marginalize_complementizer(lang2stack_d)\n",
    "    json.dump(lang2stack_d, open(f\"../work/results/lang_stack_depth/td_fold{fold}.json\", \"w\"))"
   ]
  }
 ],
 "metadata": {
  "kernelspec": {
   "display_name": ".venv",
   "language": "python",
   "name": "python3"
  },
  "language_info": {
   "codemirror_mode": {
    "name": "ipython",
    "version": 3
   },
   "file_extension": ".py",
   "mimetype": "text/x-python",
   "name": "python",
   "nbconvert_exporter": "python",
   "pygments_lexer": "ipython3",
   "version": "3.9.18"
  },
  "orig_nbformat": 4
 },
 "nbformat": 4,
 "nbformat_minor": 2
}
